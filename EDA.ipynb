{
 "cells": [
  {
   "cell_type": "code",
   "execution_count": 2,
   "metadata": {},
   "outputs": [],
   "source": [
    "import pandas as pd\n",
    "import numpy as np\n",
    "import matplotlib.pyplot as plt\n",
    "import seaborn as sns\n"
   ]
  },
  {
   "cell_type": "markdown",
   "metadata": {},
   "source": [
    "This notebook is the sandbox area for the EDA for the final project. \n",
    "\n",
    "For the DTSA 5509 final project we are asked to find a data set And develop some sort of question or problem that we are looking to solve using machine learning. For my project I am beginning with a data set I found on Kaggle that was created synthetically by Rabie El Kharoua (Kharoua 2024). The data set is designed to enable students to practice creating various classification models using data crafted to mimic various metrics and attributes of the manufacturing process. This essentially allows us to mimic the function of attempting to find defects in the manufacturing process and identify what attributes and features play the most important role and what features might not be useful and can be cut from the process.\n",
    "\n",
    "For this project I will begin with downloading the data set in a csv file from Cagle and then utilizing Python to import and clean the data set. The Seaborn, Nunpi, Pandas, and Matt plot lib should be sufficient for this first section. "
   ]
  },
  {
   "cell_type": "code",
   "execution_count": 3,
   "metadata": {},
   "outputs": [],
   "source": [
    "# Upload the data \n",
    "mf_df = pd.read_csv('manufacturing_defect_dataset.csv')"
   ]
  },
  {
   "cell_type": "code",
   "execution_count": 4,
   "metadata": {},
   "outputs": [
    {
     "name": "stdout",
     "output_type": "stream",
     "text": [
      "<class 'pandas.core.frame.DataFrame'>\n",
      "RangeIndex: 3240 entries, 0 to 3239\n",
      "Data columns (total 17 columns):\n",
      " #   Column                Non-Null Count  Dtype  \n",
      "---  ------                --------------  -----  \n",
      " 0   ProductionVolume      3240 non-null   int64  \n",
      " 1   ProductionCost        3240 non-null   float64\n",
      " 2   SupplierQuality       3240 non-null   float64\n",
      " 3   DeliveryDelay         3240 non-null   int64  \n",
      " 4   DefectRate            3240 non-null   float64\n",
      " 5   QualityScore          3240 non-null   float64\n",
      " 6   MaintenanceHours      3240 non-null   int64  \n",
      " 7   DowntimePercentage    3240 non-null   float64\n",
      " 8   InventoryTurnover     3240 non-null   float64\n",
      " 9   StockoutRate          3240 non-null   float64\n",
      " 10  WorkerProductivity    3240 non-null   float64\n",
      " 11  SafetyIncidents       3240 non-null   int64  \n",
      " 12  EnergyConsumption     3240 non-null   float64\n",
      " 13  EnergyEfficiency      3240 non-null   float64\n",
      " 14  AdditiveProcessTime   3240 non-null   float64\n",
      " 15  AdditiveMaterialCost  3240 non-null   float64\n",
      " 16  DefectStatus          3240 non-null   int64  \n",
      "dtypes: float64(12), int64(5)\n",
      "memory usage: 430.4 KB\n"
     ]
    }
   ],
   "source": [
    "mf_df.info()"
   ]
  },
  {
   "cell_type": "markdown",
   "metadata": {},
   "source": [
    "References\n",
    "Dataset - https://www.kaggle.com/datasets/rabieelkharoua/predicting-manufacturing-defects-dataset?resource=download\n",
    "    License - Attribution 4.0 International (CC BY 4.0)\n"
   ]
  }
 ],
 "metadata": {
  "kernelspec": {
   "display_name": "Python 3",
   "language": "python",
   "name": "python3"
  },
  "language_info": {
   "codemirror_mode": {
    "name": "ipython",
    "version": 3
   },
   "file_extension": ".py",
   "mimetype": "text/x-python",
   "name": "python",
   "nbconvert_exporter": "python",
   "pygments_lexer": "ipython3",
   "version": "3.12.4"
  }
 },
 "nbformat": 4,
 "nbformat_minor": 2
}
